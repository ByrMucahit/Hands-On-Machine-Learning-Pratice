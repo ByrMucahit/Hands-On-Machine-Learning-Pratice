{
 "cells": [
  {
   "cell_type": "code",
   "execution_count": 1,
   "id": "f01513c9-4ca4-4f61-9f05-bd4732251c87",
   "metadata": {},
   "outputs": [],
   "source": [
    "# Library\n",
    "import matplotlib.pyplot as plt\n",
    "import numpy as np\n",
    "import pandas as pd\n",
    "import sklearn.linear_model"
   ]
  },
  {
   "cell_type": "code",
   "execution_count": 2,
   "id": "3a260182-d063-4067-a4f9-d06c319dc7ce",
   "metadata": {},
   "outputs": [],
   "source": [
    "# Load Data\n",
    "oecd_bli = pd.read_csv('Data/oecd.csv', thousands=\",\")\n",
    "gdp_per_capita = pd.read_csv('Data/gdp_per_capita.csv', thousands=\",\", delimiter='\\t', encoding='latin1', na_values=\"n/a\")"
   ]
  },
  {
   "cell_type": "code",
   "execution_count": 3,
   "id": "da95c390-cf69-4ab8-a85c-3cd91a2b17cb",
   "metadata": {},
   "outputs": [],
   "source": [
    "def prepare_country_stats(oecd_bli, gdp_per_capita):\n",
    "    oecd_bli = oecd_bli[oecd_bli[\"INEQUALITY\"]==\"TOT\"]\n",
    "    oecd_bli = oecd_bli.pivot(index=\"Country\", columns=\"Indicator\", values=\"Value\") \n",
    "    gdp_per_capita.rename(columns={\"2015\": \"GDP per capita\"}, inplace=True)\n",
    "    gdp_per_capita.set_index(\"Country\", inplace=True)\n",
    "    full_country_stats = pd.merge(left=oecd_bli, right=gdp_per_capita,\n",
    "                                  left_index=True, right_index=True)\n",
    "    full_country_stats.sort_values(by=\"GDP per capita\", inplace=True)\n",
    "    remove_indices = [0, 1, 6, 8, 33, 34, 35]\n",
    "    keep_indices = list(set(range(36)) - set(remove_indices))\n",
    "    return full_country_stats[[\"GDP per capita\", 'Life satisfaction']].iloc[keep_indices]"
   ]
  },
  {
   "cell_type": "code",
   "execution_count": 4,
   "id": "f2395a74-f74a-4df1-a0b9-398e32b03175",
   "metadata": {},
   "outputs": [
    {
     "data": {
      "text/plain": [
       "'\\n\\n    Args:\\n    -------\\n    pd.DataFrame.pivot : Return reshaped DataFrame organized by given index / column values.\\n    pd.DataFrame.rename : Change column name.\\n    pd.DataFrame.set_index : Set the DataFrame index using one or more existing columns or arrays (of the correct length). The index can replace the existing index or expand on it.\\n    pd.merge: Merge dataframe or named Series object with a database-style join.\\n\\n\\n'"
      ]
     },
     "execution_count": 4,
     "metadata": {},
     "output_type": "execute_result"
    }
   ],
   "source": [
    "\"\"\"\n",
    "\n",
    "    Args:\n",
    "    -------\n",
    "    pd.DataFrame.pivot : Return reshaped DataFrame organized by given index / column values.\n",
    "    pd.DataFrame.rename : Change column name.\n",
    "    pd.DataFrame.set_index : Set the DataFrame index using one or more existing columns or arrays (of the correct length). The index can replace the existing index or expand on it.\n",
    "    pd.merge: Merge dataframe or named Series object with a database-style join.\n",
    "\n",
    "\n",
    "\"\"\""
   ]
  },
  {
   "cell_type": "code",
   "execution_count": 5,
   "id": "25a40c30-e653-465f-863e-bd837b1c1f23",
   "metadata": {},
   "outputs": [],
   "source": [
    "# Prepare the data\n",
    "country_stats = prepare_country_stats(oecd_bli, gdp_per_capita)\n",
    "x = np.c_[country_stats[\"GDP per capita\"]]\n",
    "y = np.c_[country_stats[\"Life satisfaction\"]]"
   ]
  },
  {
   "cell_type": "code",
   "execution_count": 6,
   "id": "122cba02-a23c-4d20-8406-50a8e7a4e478",
   "metadata": {},
   "outputs": [
    {
     "data": {
      "text/plain": [
       "array([[6.4],\n",
       "       [6.5],\n",
       "       [5.8],\n",
       "       [5.5],\n",
       "       [6.1],\n",
       "       [5.9],\n",
       "       [5.9],\n",
       "       [6.2],\n",
       "       [6.7],\n",
       "       [5.7],\n",
       "       [5.4],\n",
       "       [5.4],\n",
       "       [5.9],\n",
       "       [6.3],\n",
       "       [5.9],\n",
       "       [6. ],\n",
       "       [5.9],\n",
       "       [7.2],\n",
       "       [7.3],\n",
       "       [6.5],\n",
       "       [6.9],\n",
       "       [7. ],\n",
       "       [7.6],\n",
       "       [7.4],\n",
       "       [7.4],\n",
       "       [7.1],\n",
       "       [6.8],\n",
       "       [7.3],\n",
       "       [7.5]])"
      ]
     },
     "execution_count": 6,
     "metadata": {},
     "output_type": "execute_result"
    }
   ],
   "source": [
    "y"
   ]
  },
  {
   "cell_type": "code",
   "execution_count": 7,
   "id": "c47f1eb2-e7b5-4369-a340-6cc91cbfe9a5",
   "metadata": {},
   "outputs": [
    {
     "data": {
      "image/png": "[encoded data removed]",
      "text/plain": [
       "<Figure size 432x288 with 1 Axes>"
      ]
     },
     "metadata": {
      "needs_background": "light"
     },
     "output_type": "display_data"
    }
   ],
   "source": [
    "# Visualize the data\n",
    "country_stats.plot(kind='scatter', x=\"GDP per capita\", y=\"Life satisfaction\")\n",
    "plt.show()"
   ]
  },
  {
   "cell_type": "code",
   "execution_count": 8,
   "id": "5ca13e21-9e72-4ac4-b4fc-8f9429838a55",
   "metadata": {},
   "outputs": [
    {
     "name": "stdout",
     "output_type": "stream",
     "text": [
      "[[6.25984414]]\n"
     ]
    }
   ],
   "source": [
    "# Select a linear model\n",
    "model = sklearn.linear_model.LinearRegression()\n",
    "\n",
    "# Train Model\n",
    "model.fit(x, y)\n",
    "\n",
    "#Make a prediction for a Cyprus\n",
    "X_new = [[22587]] #Cyprus GDP per capita\n",
    "print(model.predict(X_new))"
   ]
  },
  {
   "cell_type": "code",
   "execution_count": 9,
   "id": "09a0cdc8-af76-4fa6-ad5b-42c40adb6e66",
   "metadata": {},
   "outputs": [
    {
     "data": {
      "text/html": [
       "<div>\n",
       "<style scoped>\n",
       "    .dataframe tbody tr th:only-of-type {\n",
       "        vertical-align: middle;\n",
       "    }\n",
       "\n",
       "    .dataframe tbody tr th {\n",
       "        vertical-align: top;\n",
       "    }\n",
       "\n",
       "    .dataframe thead th {\n",
       "        text-align: right;\n",
       "    }\n",
       "</style>\n",
       "<table border=\"1\" class=\"dataframe\">\n",
       "  <thead>\n",
       "    <tr style=\"text-align: right;\">\n",
       "      <th></th>\n",
       "      <th>LOCATION</th>\n",
       "      <th>Country</th>\n",
       "      <th>INDICATOR</th>\n",
       "      <th>Indicator</th>\n",
       "      <th>MEASURE</th>\n",
       "      <th>Measure</th>\n",
       "      <th>INEQUALITY</th>\n",
       "      <th>Inequality</th>\n",
       "      <th>Unit Code</th>\n",
       "      <th>Unit</th>\n",
       "      <th>PowerCode Code</th>\n",
       "      <th>PowerCode</th>\n",
       "      <th>Reference Period Code</th>\n",
       "      <th>Reference Period</th>\n",
       "      <th>Value</th>\n",
       "      <th>Flag Codes</th>\n",
       "      <th>Flags</th>\n",
       "    </tr>\n",
       "  </thead>\n",
       "  <tbody>\n",
       "    <tr>\n",
       "      <th>0</th>\n",
       "      <td>AUS</td>\n",
       "      <td>Australia</td>\n",
       "      <td>JE_LMIS</td>\n",
       "      <td>Labour market insecurity</td>\n",
       "      <td>L</td>\n",
       "      <td>Value</td>\n",
       "      <td>TOT</td>\n",
       "      <td>Total</td>\n",
       "      <td>PC</td>\n",
       "      <td>Percentage</td>\n",
       "      <td>0</td>\n",
       "      <td>Units</td>\n",
       "      <td>NaN</td>\n",
       "      <td>NaN</td>\n",
       "      <td>5.4</td>\n",
       "      <td>NaN</td>\n",
       "      <td>NaN</td>\n",
       "    </tr>\n",
       "    <tr>\n",
       "      <th>1</th>\n",
       "      <td>AUT</td>\n",
       "      <td>Austria</td>\n",
       "      <td>JE_LMIS</td>\n",
       "      <td>Labour market insecurity</td>\n",
       "      <td>L</td>\n",
       "      <td>Value</td>\n",
       "      <td>TOT</td>\n",
       "      <td>Total</td>\n",
       "      <td>PC</td>\n",
       "      <td>Percentage</td>\n",
       "      <td>0</td>\n",
       "      <td>Units</td>\n",
       "      <td>NaN</td>\n",
       "      <td>NaN</td>\n",
       "      <td>3.5</td>\n",
       "      <td>NaN</td>\n",
       "      <td>NaN</td>\n",
       "    </tr>\n",
       "    <tr>\n",
       "      <th>2</th>\n",
       "      <td>BEL</td>\n",
       "      <td>Belgium</td>\n",
       "      <td>JE_LMIS</td>\n",
       "      <td>Labour market insecurity</td>\n",
       "      <td>L</td>\n",
       "      <td>Value</td>\n",
       "      <td>TOT</td>\n",
       "      <td>Total</td>\n",
       "      <td>PC</td>\n",
       "      <td>Percentage</td>\n",
       "      <td>0</td>\n",
       "      <td>Units</td>\n",
       "      <td>NaN</td>\n",
       "      <td>NaN</td>\n",
       "      <td>3.7</td>\n",
       "      <td>NaN</td>\n",
       "      <td>NaN</td>\n",
       "    </tr>\n",
       "    <tr>\n",
       "      <th>3</th>\n",
       "      <td>CAN</td>\n",
       "      <td>Canada</td>\n",
       "      <td>JE_LMIS</td>\n",
       "      <td>Labour market insecurity</td>\n",
       "      <td>L</td>\n",
       "      <td>Value</td>\n",
       "      <td>TOT</td>\n",
       "      <td>Total</td>\n",
       "      <td>PC</td>\n",
       "      <td>Percentage</td>\n",
       "      <td>0</td>\n",
       "      <td>Units</td>\n",
       "      <td>NaN</td>\n",
       "      <td>NaN</td>\n",
       "      <td>6.0</td>\n",
       "      <td>NaN</td>\n",
       "      <td>NaN</td>\n",
       "    </tr>\n",
       "    <tr>\n",
       "      <th>4</th>\n",
       "      <td>CZE</td>\n",
       "      <td>Czech Republic</td>\n",
       "      <td>JE_LMIS</td>\n",
       "      <td>Labour market insecurity</td>\n",
       "      <td>L</td>\n",
       "      <td>Value</td>\n",
       "      <td>TOT</td>\n",
       "      <td>Total</td>\n",
       "      <td>PC</td>\n",
       "      <td>Percentage</td>\n",
       "      <td>0</td>\n",
       "      <td>Units</td>\n",
       "      <td>NaN</td>\n",
       "      <td>NaN</td>\n",
       "      <td>3.1</td>\n",
       "      <td>NaN</td>\n",
       "      <td>NaN</td>\n",
       "    </tr>\n",
       "  </tbody>\n",
       "</table>\n",
       "</div>"
      ],
      "text/plain": [
       "  LOCATION         Country INDICATOR                 Indicator MEASURE  \\\n",
       "0      AUS       Australia   JE_LMIS  Labour market insecurity       L   \n",
       "1      AUT         Austria   JE_LMIS  Labour market insecurity       L   \n",
       "2      BEL         Belgium   JE_LMIS  Labour market insecurity       L   \n",
       "3      CAN          Canada   JE_LMIS  Labour market insecurity       L   \n",
       "4      CZE  Czech Republic   JE_LMIS  Labour market insecurity       L   \n",
       "\n",
       "  Measure INEQUALITY Inequality Unit Code        Unit  PowerCode Code  \\\n",
       "0   Value        TOT      Total        PC  Percentage               0   \n",
       "1   Value        TOT      Total        PC  Percentage               0   \n",
       "2   Value        TOT      Total        PC  Percentage               0   \n",
       "3   Value        TOT      Total        PC  Percentage               0   \n",
       "4   Value        TOT      Total        PC  Percentage               0   \n",
       "\n",
       "  PowerCode  Reference Period Code  Reference Period  Value  Flag Codes  Flags  \n",
       "0     Units                    NaN               NaN    5.4         NaN    NaN  \n",
       "1     Units                    NaN               NaN    3.5         NaN    NaN  \n",
       "2     Units                    NaN               NaN    3.7         NaN    NaN  \n",
       "3     Units                    NaN               NaN    6.0         NaN    NaN  \n",
       "4     Units                    NaN               NaN    3.1         NaN    NaN  "
      ]
     },
     "execution_count": 9,
     "metadata": {},
     "output_type": "execute_result"
    }
   ],
   "source": [
    "oecd_bli[oecd_bli[\"INEQUALITY\"]==\"TOT\"].head()"
   ]
  },
  {
   "cell_type": "code",
   "execution_count": 10,
   "id": "792c2b31-60ff-4d9f-8b00-737062223071",
   "metadata": {},
   "outputs": [
    {
     "data": {
      "text/html": [
       "<div>\n",
       "<style scoped>\n",
       "    .dataframe tbody tr th:only-of-type {\n",
       "        vertical-align: middle;\n",
       "    }\n",
       "\n",
       "    .dataframe tbody tr th {\n",
       "        vertical-align: top;\n",
       "    }\n",
       "\n",
       "    .dataframe thead th {\n",
       "        text-align: right;\n",
       "    }\n",
       "</style>\n",
       "<table border=\"1\" class=\"dataframe\">\n",
       "  <thead>\n",
       "    <tr style=\"text-align: right;\">\n",
       "      <th></th>\n",
       "      <th>Subject Descriptor</th>\n",
       "      <th>Units</th>\n",
       "      <th>Scale</th>\n",
       "      <th>Country/Series-specific Notes</th>\n",
       "      <th>GDP per capita</th>\n",
       "      <th>Estimates Start After</th>\n",
       "    </tr>\n",
       "    <tr>\n",
       "      <th>Country</th>\n",
       "      <th></th>\n",
       "      <th></th>\n",
       "      <th></th>\n",
       "      <th></th>\n",
       "      <th></th>\n",
       "      <th></th>\n",
       "    </tr>\n",
       "  </thead>\n",
       "  <tbody>\n",
       "    <tr>\n",
       "      <th>Afghanistan</th>\n",
       "      <td>Gross domestic product per capita, current prices</td>\n",
       "      <td>U.S. dollars</td>\n",
       "      <td>Units</td>\n",
       "      <td>See notes for:  Gross domestic product, curren...</td>\n",
       "      <td>599.994</td>\n",
       "      <td>2013.0</td>\n",
       "    </tr>\n",
       "    <tr>\n",
       "      <th>Albania</th>\n",
       "      <td>Gross domestic product per capita, current prices</td>\n",
       "      <td>U.S. dollars</td>\n",
       "      <td>Units</td>\n",
       "      <td>See notes for:  Gross domestic product, curren...</td>\n",
       "      <td>3995.383</td>\n",
       "      <td>2010.0</td>\n",
       "    </tr>\n",
       "    <tr>\n",
       "      <th>Algeria</th>\n",
       "      <td>Gross domestic product per capita, current prices</td>\n",
       "      <td>U.S. dollars</td>\n",
       "      <td>Units</td>\n",
       "      <td>See notes for:  Gross domestic product, curren...</td>\n",
       "      <td>4318.135</td>\n",
       "      <td>2014.0</td>\n",
       "    </tr>\n",
       "    <tr>\n",
       "      <th>Angola</th>\n",
       "      <td>Gross domestic product per capita, current prices</td>\n",
       "      <td>U.S. dollars</td>\n",
       "      <td>Units</td>\n",
       "      <td>See notes for:  Gross domestic product, curren...</td>\n",
       "      <td>4100.315</td>\n",
       "      <td>2014.0</td>\n",
       "    </tr>\n",
       "    <tr>\n",
       "      <th>Antigua and Barbuda</th>\n",
       "      <td>Gross domestic product per capita, current prices</td>\n",
       "      <td>U.S. dollars</td>\n",
       "      <td>Units</td>\n",
       "      <td>See notes for:  Gross domestic product, curren...</td>\n",
       "      <td>14414.302</td>\n",
       "      <td>2011.0</td>\n",
       "    </tr>\n",
       "  </tbody>\n",
       "</table>\n",
       "</div>"
      ],
      "text/plain": [
       "                                                    Subject Descriptor  \\\n",
       "Country                                                                  \n",
       "Afghanistan          Gross domestic product per capita, current prices   \n",
       "Albania              Gross domestic product per capita, current prices   \n",
       "Algeria              Gross domestic product per capita, current prices   \n",
       "Angola               Gross domestic product per capita, current prices   \n",
       "Antigua and Barbuda  Gross domestic product per capita, current prices   \n",
       "\n",
       "                            Units  Scale  \\\n",
       "Country                                    \n",
       "Afghanistan          U.S. dollars  Units   \n",
       "Albania              U.S. dollars  Units   \n",
       "Algeria              U.S. dollars  Units   \n",
       "Angola               U.S. dollars  Units   \n",
       "Antigua and Barbuda  U.S. dollars  Units   \n",
       "\n",
       "                                         Country/Series-specific Notes  \\\n",
       "Country                                                                  \n",
       "Afghanistan          See notes for:  Gross domestic product, curren...   \n",
       "Albania              See notes for:  Gross domestic product, curren...   \n",
       "Algeria              See notes for:  Gross domestic product, curren...   \n",
       "Angola               See notes for:  Gross domestic product, curren...   \n",
       "Antigua and Barbuda  See notes for:  Gross domestic product, curren...   \n",
       "\n",
       "                     GDP per capita  Estimates Start After  \n",
       "Country                                                     \n",
       "Afghanistan                 599.994                 2013.0  \n",
       "Albania                    3995.383                 2010.0  \n",
       "Algeria                    4318.135                 2014.0  \n",
       "Angola                     4100.315                 2014.0  \n",
       "Antigua and Barbuda       14414.302                 2011.0  "
      ]
     },
     "execution_count": 10,
     "metadata": {},
     "output_type": "execute_result"
    }
   ],
   "source": [
    "gdp_per_capita.head()"
   ]
  },
  {
   "cell_type": "code",
   "execution_count": 12,
   "id": "51023e8f-cf3b-4cf6-b0e5-5688a7c94b18",
   "metadata": {},
   "outputs": [],
   "source": [
    "import sklearn.linear_model\n",
    "model = sklearn.linear_model.LinearRegression()"
   ]
  },
  {
   "cell_type": "code",
   "execution_count": 13,
   "id": "0f4cba35-2a70-4952-b9fe-14688b7dcf4b",
   "metadata": {},
   "outputs": [],
   "source": [
    "import sklearn.neighbors\n",
    "model = sklearn.neighbors.KNeighborsRegressor(n_neighbors=3)"
   ]
  },
  {
   "cell_type": "code",
   "execution_count": null,
   "id": "fef93c81-e3ea-431b-9c5f-e1cfcf2c216a",
   "metadata": {},
   "outputs": [],
   "source": []
  }
 ],
 "metadata": {
  "kernelspec": {
   "display_name": "Python 3",
   "language": "python",
   "name": "python3"
  },
  "language_info": {
   "codemirror_mode": {
    "name": "ipython",
    "version": 3
   },
   "file_extension": ".py",
   "mimetype": "text/x-python",
   "name": "python",
   "nbconvert_exporter": "python",
   "pygments_lexer": "ipython3",
   "version": "3.8.8"
  }
 },
 "nbformat": 4,
 "nbformat_minor": 5
}
